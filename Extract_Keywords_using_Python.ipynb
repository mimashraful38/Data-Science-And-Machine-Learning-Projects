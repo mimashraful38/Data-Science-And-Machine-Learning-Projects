{
  "nbformat": 4,
  "nbformat_minor": 0,
  "metadata": {
    "colab": {
      "name": "Extract Keywords using Python.ipynb",
      "provenance": [],
      "authorship_tag": "ABX9TyPHoj7frodIJJic4VXeO88S",
      "include_colab_link": true
    },
    "kernelspec": {
      "name": "python3",
      "display_name": "Python 3"
    },
    "language_info": {
      "name": "python"
    }
  },
  "cells": [
    {
      "cell_type": "markdown",
      "metadata": {
        "id": "view-in-github",
        "colab_type": "text"
      },
      "source": [
        "<a href=\"https://colab.research.google.com/github/mimashraful38/Data-Science-And-Machine-Learning-Projects/blob/main/Extract_Keywords_using_Python.ipynb\" target=\"_parent\"><img src=\"https://colab.research.google.com/assets/colab-badge.svg\" alt=\"Open In Colab\"/></a>"
      ]
    },
    {
      "cell_type": "markdown",
      "metadata": {
        "id": "_0if2z1QO-zQ"
      },
      "source": [
        "# Extract Keywords using Python\n"
      ]
    },
    {
      "cell_type": "code",
      "metadata": {
        "colab": {
          "base_uri": "https://localhost:8080/"
        },
        "id": "yMhNWgYZPHZT",
        "outputId": "c33cb535-fbbc-4fb9-d5f0-27147eeeb28a"
      },
      "source": [
        "pip install rake_nltk\n"
      ],
      "execution_count": 2,
      "outputs": [
        {
          "output_type": "stream",
          "text": [
            "Collecting rake_nltk\n",
            "  Downloading https://files.pythonhosted.org/packages/8e/c4/b4ff57e541ac5624ad4b20b89c2bafd4e98f29fd83139f3a81858bdb3815/rake_nltk-1.0.4.tar.gz\n",
            "Requirement already satisfied: nltk in /usr/local/lib/python3.7/dist-packages (from rake_nltk) (3.2.5)\n",
            "Requirement already satisfied: six in /usr/local/lib/python3.7/dist-packages (from nltk->rake_nltk) (1.15.0)\n",
            "Building wheels for collected packages: rake-nltk\n",
            "  Building wheel for rake-nltk (setup.py) ... \u001b[?25l\u001b[?25hdone\n",
            "  Created wheel for rake-nltk: filename=rake_nltk-1.0.4-py2.py3-none-any.whl size=7829 sha256=982c5729b956ac502bc78fc4fa17de45bb8c3a3ae4ebfb002462260c787e51b3\n",
            "  Stored in directory: /root/.cache/pip/wheels/ef/92/fc/271b3709e71a96ffe934b27818946b795ac6b9b8ff8682483f\n",
            "Successfully built rake-nltk\n",
            "Installing collected packages: rake-nltk\n",
            "Successfully installed rake-nltk-1.0.4\n"
          ],
          "name": "stdout"
        }
      ]
    },
    {
      "cell_type": "code",
      "metadata": {
        "id": "NrHLFzAXOP5a"
      },
      "source": [
        "from rake_nltk import Rake\n",
        "rake_nltk_var = Rake()"
      ],
      "execution_count": 3,
      "outputs": []
    },
    {
      "cell_type": "code",
      "metadata": {
        "id": "dg75IeRvQM2V"
      },
      "source": [
        "text = \"\"\" Machine Learning (ML) is basically that field of computer science with the help of which \n",
        "      computer systems can provide sense to data in much the same way as human beings do. In simple words, \n",
        "      ML is a type of artificial intelligence that extract patterns out of raw data by using an algorithm or method. \n",
        "      The key focus of ML is to allow computer systems to learn from experience without being explicitly programmed\n",
        "       or human intervention.\"\"\""
      ],
      "execution_count": 4,
      "outputs": []
    },
    {
      "cell_type": "code",
      "metadata": {
        "colab": {
          "base_uri": "https://localhost:8080/"
        },
        "id": "UEbgQUlkQoUh",
        "outputId": "15a50963-3c63-40fb-9f87-d95b381adf86"
      },
      "source": [
        "rake_nltk_var.extract_keywords_from_text(text)\n",
        "keyword_extracted = rake_nltk_var.get_ranked_phrases()\n",
        "print(keyword_extracted)"
      ],
      "execution_count": 5,
      "outputs": [
        {
          "output_type": "stream",
          "text": [
            "['allow computer systems', 'computer systems', 'computer science', 'simple words', 'provide sense', 'machine learning', 'key focus', 'human intervention', 'human beings', 'extract patterns', 'explicitly programmed', 'experience without', 'artificial intelligence', 'raw data', 'data', 'way', 'using', 'type', 'much', 'ml', 'method', 'learn', 'help', 'field', 'basically', 'algorithm']\n"
          ],
          "name": "stdout"
        }
      ]
    },
    {
      "cell_type": "code",
      "metadata": {
        "id": "wFMHelqwQs2g"
      },
      "source": [
        ""
      ],
      "execution_count": null,
      "outputs": []
    }
  ]
}